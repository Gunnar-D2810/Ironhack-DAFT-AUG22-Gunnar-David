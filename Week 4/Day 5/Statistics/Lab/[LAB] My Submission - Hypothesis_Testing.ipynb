{
 "cells": [
  {
   "cell_type": "code",
   "execution_count": 13,
   "metadata": {
    "executionInfo": {
     "elapsed": 254,
     "status": "ok",
     "timestamp": 1624961181752,
     "user": {
      "displayName": "Ignacio Soteras",
      "photoUrl": "",
      "userId": "02050793736257155229"
     },
     "user_tz": -120
    },
    "id": "V8db-B4LZC-m"
   },
   "outputs": [],
   "source": [
    "import numpy as np\n",
    "import pandas as pd\n",
    "import scipy.stats as stats\n",
    "import matplotlib.pyplot as plt\n",
    "import seaborn as sns\n",
    "import math\n",
    "\n",
    "%matplotlib inline"
   ]
  },
  {
   "cell_type": "markdown",
   "metadata": {},
   "source": [
    "# Lab | Hypothesis Testing\n",
    "\n",
    "\n",
    "### Instructions\n",
    "\n",
    "1. It is assumed that the mean systolic blood pressure is `μ = 120 mm Hg`. In the Honolulu Heart Study, a sample of `n = 100` people had an average systolic blood pressure of 130.1 mm Hg with a standard deviation of 21.21 mm Hg. Is the group significantly different (with respect to systolic blood pressure!) from the regular population?\n",
    "\n",
    "   - Set up the hypothesis test.\n",
    "   - Write down all the steps followed for setting up the test.\n",
    "   - Calculate the test statistic by hand and also code it in Python. It should be 4.76190. What decision can you make based on this calculated value?\n",
    "\n",
    "Hint: here is the statistic [table](https://yuppal.people.ysu.edu/econ_3790/t-table.pdf ) \n",
    "### Optional\n",
    "2. In a packing plant, a machine packs cartons with jars. It is supposed that a new machine will pack faster on the average than the machine currently used. To test that hypothesis, the times it takes each machine to pack ten cartons are recorded. The results, in seconds, are shown in the tables in the file `Data/machine.txt`. Assume that there is sufficient evidence to conduct the t test, does the data provide sufficient evidence to show if one machine is better than the other\n"
   ]
  },
  {
   "cell_type": "markdown",
   "metadata": {
    "id": "Lxo1LcXdZC-p"
   },
   "source": [
    "## Testing means (with 1 sample)\n",
    "\n",
    "Is the group from researched in the Honolulu Heart Study different from general population systolic blood pressure? :(\n",
    "\n",
    "- H0: mu = 120\n",
    "- H1: mu != 120\n",
    "\n",
    "2-tail distribution"
   ]
  },
  {
   "cell_type": "code",
   "execution_count": 11,
   "metadata": {},
   "outputs": [
    {
     "name": "stdout",
     "output_type": "stream",
     "text": [
      "Population mean of systolic pressure is: 120.00\n"
     ]
    }
   ],
   "source": [
    "# The general population has a blood perssure with a mean of 120 mm Hg systolic pressure\n",
    "# The mean of the general population is:\n",
    "systolic_pressure_mu = 120\n",
    "print(\"Population mean of systolic pressure is: {:.2f}\".format(systolic_pressure_mu))"
   ]
  },
  {
   "cell_type": "code",
   "execution_count": 10,
   "metadata": {
    "colab": {
     "base_uri": "https://localhost:8080/"
    },
    "executionInfo": {
     "elapsed": 199,
     "status": "ok",
     "timestamp": 1624961337139,
     "user": {
      "displayName": "Ignacio Soteras",
      "photoUrl": "",
      "userId": "02050793736257155229"
     },
     "user_tz": -120
    },
    "id": "uO_9u5dKZC-q",
    "outputId": "0bdf9b9b-66cd-4d37-9e7c-f51616b8a5a6"
   },
   "outputs": [
    {
     "name": "stdout",
     "output_type": "stream",
     "text": [
      "Sample standard deviation is: 21.21\n"
     ]
    }
   ],
   "source": [
    "# The Honolulu Heart Study provides data on the standard deviation in the sample with sigma of standard deviation of 21.21 mm Hg.\n",
    "# The standard deviation of our sample is:\n",
    "stdev_x = 21.21\n",
    "print(\"Sample standard deviation is: {:.2f}\".format(stdev_x))"
   ]
  },
  {
   "cell_type": "code",
   "execution_count": 9,
   "metadata": {},
   "outputs": [
    {
     "name": "stdout",
     "output_type": "stream",
     "text": [
      "Sample mean of systolic pressure is: 130.10\n"
     ]
    }
   ],
   "source": [
    "# The Honolulu Heart Study provides data on the sample with a mean of 130.1 mm Hg systolic pressure\n",
    "# The mean of our sample is:\n",
    "systolic_pressure_mu_x = 130.1\n",
    "print(\"Sample mean of systolic pressure is: {:.2f}\".format(systolic_pressure_mu_x))"
   ]
  },
  {
   "cell_type": "code",
   "execution_count": 8,
   "metadata": {},
   "outputs": [
    {
     "name": "stdout",
     "output_type": "stream",
     "text": [
      "Sample size is: 100.00\n"
     ]
    }
   ],
   "source": [
    "# The Honolulu Heart Study provides data on the sample size with 100\n",
    "# The size of our sample is:\n",
    "n_x = 100\n",
    "print(\"Sample size is: {:.2f}\".format(n_x))"
   ]
  },
  {
   "cell_type": "markdown",
   "metadata": {
    "id": "m89faFBkZC-t"
   },
   "source": [
    "Our sample size is bigger than 30, therefore our sample distribution would follow a normal distribution, however we do not have the standard deviation of the general population, hence we will follow a t-student distribution. \n",
    "\n",
    "Let's find the t score for our sample."
   ]
  },
  {
   "cell_type": "markdown",
   "metadata": {},
   "source": [
    "<b>  t distribution is a t-student distribution "
   ]
  },
  {
   "cell_type": "code",
   "execution_count": 16,
   "metadata": {
    "colab": {
     "base_uri": "https://localhost:8080/"
    },
    "executionInfo": {
     "elapsed": 215,
     "status": "ok",
     "timestamp": 1624961519950,
     "user": {
      "displayName": "Ignacio Soteras",
      "photoUrl": "",
      "userId": "02050793736257155229"
     },
     "user_tz": -120
    },
    "id": "v0ku_8B8ZC-t",
    "outputId": "976f250e-308e-43ad-cbe2-e17ce6b36433"
   },
   "outputs": [
    {
     "name": "stdout",
     "output_type": "stream",
     "text": [
      "4.761904761904759\n"
     ]
    }
   ],
   "source": [
    "t_x = (systolic_pressure_mu_x - systolic_pressure_mu)/(stdev_x/math.sqrt(n_x))\n",
    "print(t_x)"
   ]
  },
  {
   "cell_type": "markdown",
   "metadata": {},
   "source": [
    "[Student's t-score table](https://yuppal.people.ysu.edu/econ_3790/t-table.pdf)"
   ]
  },
  {
   "cell_type": "markdown",
   "metadata": {},
   "source": [
    "The condidence intervall alpha is 5%, two tailed. Hence 2.5% on each side of the sample density distribution. Through Student's t-score table it is possible to get the t-score value for 0.025 and degrees of freedom = 99 of t score_general_population = 1.984. "
   ]
  },
  {
   "cell_type": "code",
   "execution_count": 5,
   "metadata": {},
   "outputs": [],
   "source": [
    "t_score_population = 1.984"
   ]
  },
  {
   "cell_type": "code",
   "execution_count": 18,
   "metadata": {},
   "outputs": [
    {
     "name": "stdout",
     "output_type": "stream",
     "text": [
      "2.777904761904759\n"
     ]
    }
   ],
   "source": [
    "t_diff = t_x - t_score_population"
   ]
  },
  {
   "cell_type": "code",
   "execution_count": 25,
   "metadata": {},
   "outputs": [
    {
     "name": "stdout",
     "output_type": "stream",
     "text": [
      "H0 rejected. H1 true\n"
     ]
    }
   ],
   "source": [
    "if t_diff > 0:\n",
    "    print('H0 rejected. H1 true')\n",
    "else:\n",
    "    print('H1 rejected. H0 true')  "
   ]
  }
 ],
 "metadata": {
  "colab": {
   "name": "Hypothesis testing - code along - Structure.ipynb",
   "provenance": []
  },
  "kernelspec": {
   "display_name": "Python 3 (ipykernel)",
   "language": "python",
   "name": "python3"
  },
  "language_info": {
   "codemirror_mode": {
    "name": "ipython",
    "version": 3
   },
   "file_extension": ".py",
   "mimetype": "text/x-python",
   "name": "python",
   "nbconvert_exporter": "python",
   "pygments_lexer": "ipython3",
   "version": "3.7.13"
  }
 },
 "nbformat": 4,
 "nbformat_minor": 1
}
