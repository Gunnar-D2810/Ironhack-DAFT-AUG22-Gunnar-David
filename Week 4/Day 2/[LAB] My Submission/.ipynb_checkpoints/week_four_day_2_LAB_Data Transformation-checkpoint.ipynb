{
 "cells": [
  {
   "cell_type": "code",
   "execution_count": null,
   "id": "f60a6f3e",
   "metadata": {},
   "outputs": [],
   "source": [
    "import numpy as np\n",
    "import pandas as pd\n",
    "import matplotlib.pyplot as plt\n",
    "%matplotlib inline\n",
    "import seaborn as sns\n",
    "from sklearn.preprocessing import StandardScaler\n",
    "from sklearn.preprocessing import quantile_transform\n",
    "from sklearn.preprocessing import minmax_scale\n",
    "from sklearn.preprocessing import OneHotEncoder  ##. better to use dummy from pandas \n",
    "from sklearn.preprocessing import PowerTransformer\n",
    "from scipy.stats import boxcox ## z-transformation // standard scaler \n",
    "\n",
    "from sklearn.linear_model import LinearRegression\n",
    "from sklearn.model_selection import train_test_split\n",
    "import statsmodels.api as sm\n",
    "from scipy.stats import boxcox\n",
    "from sklearn.metrics import r2_score\n",
    "from sklearn.metrics import mean_squared_error as mse\n",
    "from sklearn.metrics import mean_absolute_error as mae\n",
    "pd.options.display.max_rows = 50\n",
    "## Install xlrd package to load Excel files\n",
    "# conda install openpyxl\n",
    "## conda install xlrd"
   ]
  },
  {
   "cell_type": "markdown",
   "id": "f7976413",
   "metadata": {},
   "source": [
    "# Load data "
   ]
  },
  {
   "cell_type": "code",
   "execution_count": null,
   "id": "41f47fd5",
   "metadata": {},
   "outputs": [],
   "source": [
    "ca_df= pd.read_csv (\"data/Data_Marketing_Customer_Analysis_Round3.csv\")"
   ]
  },
  {
   "cell_type": "code",
   "execution_count": null,
   "id": "c7001d57",
   "metadata": {},
   "outputs": [],
   "source": [
    "ca_df"
   ]
  },
  {
   "cell_type": "code",
   "execution_count": null,
   "id": "451cf0a4",
   "metadata": {},
   "outputs": [],
   "source": [
    "ca_df.info()"
   ]
  },
  {
   "cell_type": "markdown",
   "id": "725e1871",
   "metadata": {},
   "source": [
    "# Cleaning data \n",
    "\n",
    "## All those steps where did before \n",
    "- 1 Standardize column names\n",
    "- 2 Deleting and rearranging columns\n",
    "- 3 Working with data types (set the correct type)\n",
    "- 4 Filtering data\n",
    "- 5 Removing duplicates\n",
    "- 6 Correcting typos\n",
    "- 7 Conditional formatting\n",
    "- 8 Replace missing values\n"
   ]
  },
  {
   "cell_type": "markdown",
   "id": "02f593f0",
   "metadata": {},
   "source": [
    "# Split df to numerical and categorical features "
   ]
  },
  {
   "cell_type": "code",
   "execution_count": null,
   "id": "83b6c259",
   "metadata": {
    "scrolled": true
   },
   "outputs": [],
   "source": [
    "ca_numerical=ca_df._get_numeric_data()\n",
    "ca_categorical=ca_df.select_dtypes(include=[\"object\"])\n",
    "\n",
    "ca_numerical"
   ]
  },
  {
   "cell_type": "code",
   "execution_count": null,
   "id": "b4a72012",
   "metadata": {},
   "outputs": [],
   "source": [
    "ca_categorical"
   ]
  },
  {
   "cell_type": "code",
   "execution_count": null,
   "id": "47d70f9b",
   "metadata": {
    "scrolled": true
   },
   "outputs": [],
   "source": [
    "ca_numerical.drop(columns=[\"number_of_open_complaints\"],axis=1, inplace=True)\n",
    "ca_numerical"
   ]
  },
  {
   "cell_type": "code",
   "execution_count": null,
   "id": "e9e4cb6d",
   "metadata": {},
   "outputs": [],
   "source": [
    "l= ca_df[\"number_of_open_complaints\"]\n",
    "ca_categorical.insert(0, \"number_of_open_complaints\",l)"
   ]
  },
  {
   "cell_type": "code",
   "execution_count": null,
   "id": "4bf3806b",
   "metadata": {},
   "outputs": [],
   "source": [
    "ca_categorical.drop(columns=[\"effective_to_date\"],axis=1, inplace=True)"
   ]
  },
  {
   "cell_type": "code",
   "execution_count": null,
   "id": "c76907df",
   "metadata": {},
   "outputs": [],
   "source": [
    "ca_categorical"
   ]
  },
  {
   "cell_type": "markdown",
   "id": "ceaf7f41",
   "metadata": {},
   "source": [
    "# Hot / Labeld  Encoding"
   ]
  },
  {
   "cell_type": "markdown",
   "id": "f1b526ba",
   "metadata": {},
   "source": [
    "## Labeld\n",
    "\n",
    "- we are doing all ordinal features into a new df called ca_categorical_ordinal "
   ]
  },
  {
   "cell_type": "code",
   "execution_count": null,
   "id": "bfae1705",
   "metadata": {},
   "outputs": [],
   "source": [
    "# labeled ordinal features \n",
    "# coverage\n",
    "# education\n",
    "# month\n",
    "# policy \n",
    "ca_categorical_ordinal=pd.DataFrame(ca_categorical[[\"coverage\", \"education\", \"month\", \"policy\"]])\n",
    "ca_categorical_ordinal"
   ]
  },
  {
   "cell_type": "code",
   "execution_count": null,
   "id": "82215104",
   "metadata": {},
   "outputs": [],
   "source": [
    "ca_categorical_ordinal.coverage.value_counts()"
   ]
  },
  {
   "cell_type": "code",
   "execution_count": null,
   "id": "41eb9d5a",
   "metadata": {},
   "outputs": [],
   "source": [
    "coverage={\"basic\":1,\"extended\":2,\"premium\":3}\n"
   ]
  },
  {
   "cell_type": "code",
   "execution_count": null,
   "id": "3c66cd54",
   "metadata": {},
   "outputs": [],
   "source": [
    "ca_categorical_ordinal[[\"coverage\"]]=ca_categorical_ordinal[[\"coverage\"]].replace(coverage)\n",
    "ca_categorical_ordinal"
   ]
  },
  {
   "cell_type": "code",
   "execution_count": null,
   "id": "8330ec06",
   "metadata": {},
   "outputs": [],
   "source": [
    "ca_categorical_ordinal.education.value_counts()"
   ]
  },
  {
   "cell_type": "code",
   "execution_count": null,
   "id": "4f0fff17",
   "metadata": {},
   "outputs": [],
   "source": [
    "education={\"high school or below\":1,\"college\":2,\"bachelor\":3, \"master\":4, \"doctor\":5}"
   ]
  },
  {
   "cell_type": "code",
   "execution_count": null,
   "id": "3b703eca",
   "metadata": {},
   "outputs": [],
   "source": [
    "ca_categorical_ordinal[[\"education\"]]=ca_categorical_ordinal[[\"education\"]].replace(education)\n",
    "ca_categorical_ordinal"
   ]
  },
  {
   "cell_type": "code",
   "execution_count": null,
   "id": "496a3432",
   "metadata": {},
   "outputs": [],
   "source": [
    "ca_categorical_ordinal.month.value_counts()"
   ]
  },
  {
   "cell_type": "code",
   "execution_count": null,
   "id": "397f10ce",
   "metadata": {},
   "outputs": [],
   "source": [
    "month={\"jan\":1,\"feb\":2}"
   ]
  },
  {
   "cell_type": "code",
   "execution_count": null,
   "id": "4615e24d",
   "metadata": {},
   "outputs": [],
   "source": [
    "ca_categorical_ordinal[[\"month\"]]=ca_categorical_ordinal[[\"month\"]].replace(month)\n",
    "ca_categorical_ordinal"
   ]
  },
  {
   "cell_type": "code",
   "execution_count": null,
   "id": "e7ed96be",
   "metadata": {},
   "outputs": [],
   "source": [
    "ca_categorical_ordinal.policy.value_counts()"
   ]
  },
  {
   "cell_type": "code",
   "execution_count": null,
   "id": "05df890f",
   "metadata": {},
   "outputs": [],
   "source": [
    "policy={\"personal l3\":1,\"personal l1\":1,\"personal l2\":1,\"corporate l3\":2,\"corporate l2\":2, \"corporate l1\":2,\"speical l3\":3,\"speical l2\":3,\"speical l1\":3}"
   ]
  },
  {
   "cell_type": "code",
   "execution_count": null,
   "id": "988323e1",
   "metadata": {},
   "outputs": [],
   "source": [
    "ca_categorical_ordinal[[\"policy\"]]=ca_categorical_ordinal[[\"policy\"]].replace(policy)\n",
    "ca_categorical_ordinal"
   ]
  },
  {
   "cell_type": "markdown",
   "id": "12479c96",
   "metadata": {},
   "source": [
    "## Hot \n",
    "- we will put all nominal features in a new df called ca_categorical_hot"
   ]
  },
  {
   "cell_type": "code",
   "execution_count": null,
   "id": "f6e28749",
   "metadata": {},
   "outputs": [],
   "source": [
    "ca_categorical.info() \n",
    "#region\n",
    "#response\n",
    "#employment_status\n",
    "#gender\n",
    "#location_code\n",
    "#martial_status\n",
    "#policy_type\n",
    "#policy \n",
    "#sales_channel\n",
    "#vehicle_class\n",
    "#vehicle_size"
   ]
  },
  {
   "cell_type": "code",
   "execution_count": null,
   "id": "7d45bbaf",
   "metadata": {},
   "outputs": [],
   "source": [
    "ca_categorical.gender.value_counts()"
   ]
  },
  {
   "cell_type": "code",
   "execution_count": null,
   "id": "802a9b04",
   "metadata": {},
   "outputs": [],
   "source": [
    "ca_categorical.response.value_counts()"
   ]
  },
  {
   "cell_type": "code",
   "execution_count": null,
   "id": "1b90ba8e",
   "metadata": {},
   "outputs": [],
   "source": [
    "ca_categorical.sales_channel.value_counts()"
   ]
  },
  {
   "cell_type": "code",
   "execution_count": null,
   "id": "12915cdd",
   "metadata": {},
   "outputs": [],
   "source": [
    "ca_categorical.location_code.value_counts()"
   ]
  },
  {
   "cell_type": "code",
   "execution_count": null,
   "id": "99dd0d87",
   "metadata": {},
   "outputs": [],
   "source": [
    "ca_categorical.marital_status.value_counts()"
   ]
  },
  {
   "cell_type": "code",
   "execution_count": null,
   "id": "1fe42d36",
   "metadata": {},
   "outputs": [],
   "source": [
    "ca_categorical.vehicle_size.value_counts()"
   ]
  },
  {
   "cell_type": "code",
   "execution_count": null,
   "id": "b06bda8d",
   "metadata": {},
   "outputs": [],
   "source": [
    "ca_categorical.vehicle_class.value_counts()"
   ]
  },
  {
   "cell_type": "code",
   "execution_count": null,
   "id": "b964ad12",
   "metadata": {},
   "outputs": [],
   "source": [
    "ca_categorical.policy_type.value_counts()"
   ]
  },
  {
   "cell_type": "code",
   "execution_count": null,
   "id": "5864ab43",
   "metadata": {},
   "outputs": [],
   "source": []
  },
  {
   "cell_type": "code",
   "execution_count": null,
   "id": "0dbbba75",
   "metadata": {},
   "outputs": [],
   "source": [
    "#region\n",
    "#response\n",
    "#employment_status\n",
    "#gender\n",
    "#location_code\n",
    "#martial_status\n",
    "#policy_type\n",
    "#policy \n",
    "#sales_channel\n",
    "#vehicle_class\n",
    "#vehicle_size"
   ]
  },
  {
   "cell_type": "code",
   "execution_count": null,
   "id": "f3d27c0b",
   "metadata": {},
   "outputs": [],
   "source": [
    "# all nominal features are getting hot encoded \n",
    "ca_categorical_hot=pd.get_dummies(ca_categorical[[\"region\",\"response\",\"gender\",\"policy_type\",\"employment_status\",\"vehicle_class\",\"vehicle_size\",\"marital_status\",\"location_code\"]], drop_first=True)"
   ]
  },
  {
   "cell_type": "code",
   "execution_count": null,
   "id": "67891dbb",
   "metadata": {},
   "outputs": [],
   "source": [
    "ca_categorical_hot"
   ]
  },
  {
   "cell_type": "markdown",
   "id": "332d6cff",
   "metadata": {},
   "source": [
    "- now we can concateinate ca_categorical_hot and ca_categorical_ordinal\n",
    "\n",
    "- then insert the number_of_open_complaints\n",
    "- and renew_offer_type \n",
    "    - look that you need to cut the str \"offer\" and then change the numbers from str to int"
   ]
  },
  {
   "cell_type": "code",
   "execution_count": null,
   "id": "5c4bb1ea",
   "metadata": {},
   "outputs": [],
   "source": [
    "categorical_features=pd.concat([ca_categorical_hot,ca_categorical_ordinal],axis=1)\n",
    "categorical_features"
   ]
  },
  {
   "cell_type": "code",
   "execution_count": null,
   "id": "1d58350d",
   "metadata": {},
   "outputs": [],
   "source": [
    "categorical_features.insert(0,\"number_of_open_complaints\",ca_categorical[\"number_of_open_complaints\"])\n",
    "categorical_features"
   ]
  },
  {
   "cell_type": "code",
   "execution_count": null,
   "id": "ca93fe3c",
   "metadata": {},
   "outputs": [],
   "source": [
    "ca_categorical.renew_offer_type.value_counts()"
   ]
  },
  {
   "cell_type": "code",
   "execution_count": null,
   "id": "93230587",
   "metadata": {},
   "outputs": [],
   "source": [
    "ca_categorical[\"renew_offer_type\"]=ca_categorical[\"renew_offer_type\"].map(lambda x: int(x.lstrip(\"offer\")))"
   ]
  },
  {
   "cell_type": "code",
   "execution_count": null,
   "id": "66e610f6",
   "metadata": {},
   "outputs": [],
   "source": [
    "categorical_features.insert(0,\"renew_offer_type\",ca_categorical[\"renew_offer_type\"])\n",
    "categorical_features"
   ]
  },
  {
   "cell_type": "markdown",
   "id": "bcc4f87c",
   "metadata": {},
   "source": [
    "# Check correlated features in numerical"
   ]
  },
  {
   "cell_type": "code",
   "execution_count": null,
   "id": "b6e602fe",
   "metadata": {},
   "outputs": [],
   "source": [
    "ca_numerical"
   ]
  },
  {
   "cell_type": "code",
   "execution_count": null,
   "id": "535a6ba5",
   "metadata": {},
   "outputs": [],
   "source": [
    "sns.pairplot(ca_numerical)"
   ]
  },
  {
   "cell_type": "code",
   "execution_count": null,
   "id": "7f38222b",
   "metadata": {},
   "outputs": [],
   "source": [
    "corr = ca_numerical.corr()\n",
    "mask = np.zeros_like(corr)\n",
    "mask[np.triu_indices_from(mask)] = True\n",
    "with sns.axes_style(\"white\"):\n",
    "    f, ax = plt.subplots(figsize=(9, 7))\n",
    "    ax = sns.heatmap(corr, mask=mask,cmap='coolwarm', vmin=-1,vmax=1,annot=True, square=True)"
   ]
  },
  {
   "cell_type": "code",
   "execution_count": null,
   "id": "fe30c989",
   "metadata": {},
   "outputs": [],
   "source": [
    "corr_matrix=ca_numerical.corr().abs()\n",
    "upper_triangle=corr_matrix.where(np.triu(np.ones(corr_matrix.shape),k=1).astype(bool))\n",
    "[column for column in upper_triangle.columns if any(upper_triangle[column] > 0.80)]"
   ]
  },
  {
   "cell_type": "markdown",
   "id": "62804301",
   "metadata": {},
   "source": [
    "- no feature is above 0.8 corrleation thats why we keep all of them\n"
   ]
  },
  {
   "cell_type": "markdown",
   "id": "78613379",
   "metadata": {},
   "source": [
    "# X-y split\n",
    "- (y is the target variable, which is the total claim amount)\n"
   ]
  },
  {
   "cell_type": "code",
   "execution_count": null,
   "id": "a3b5ab54",
   "metadata": {},
   "outputs": [],
   "source": [
    "ca_numerical.info()"
   ]
  },
  {
   "cell_type": "code",
   "execution_count": null,
   "id": "eeb7e5d2",
   "metadata": {},
   "outputs": [],
   "source": [
    "X=ca_numerical.drop('total_claim_amount', axis=1)\n",
    "y=ca_numerical.total_claim_amount\n"
   ]
  },
  {
   "cell_type": "code",
   "execution_count": null,
   "id": "d9d0aed5",
   "metadata": {},
   "outputs": [],
   "source": [
    "X=X._get_numeric_data()"
   ]
  },
  {
   "cell_type": "code",
   "execution_count": null,
   "id": "6c5fc6ff",
   "metadata": {},
   "outputs": [],
   "source": [
    "X"
   ]
  },
  {
   "cell_type": "code",
   "execution_count": null,
   "id": "57a8cc4e",
   "metadata": {},
   "outputs": [],
   "source": [
    "X.hist(figsize=(14,14))"
   ]
  },
  {
   "cell_type": "markdown",
   "id": "6a6186be",
   "metadata": {},
   "source": [
    "# Train-test split\n",
    "- Standardize the data (after the data split)."
   ]
  },
  {
   "cell_type": "code",
   "execution_count": null,
   "id": "2c45b8f7",
   "metadata": {},
   "outputs": [],
   "source": [
    "X_train, X_test, y_train, y_test=train_test_split(X, y, test_size=.30,random_state=123)"
   ]
  },
  {
   "cell_type": "code",
   "execution_count": null,
   "id": "d03b98c4",
   "metadata": {},
   "outputs": [],
   "source": [
    "std_scaler=StandardScaler().fit(X_train)   ##. finding the parameters ( mean, variance from the training set )\n",
    "\n",
    "X_train_scaled=std_scaler.transform(X_train)"
   ]
  },
  {
   "cell_type": "code",
   "execution_count": null,
   "id": "c996a7d7",
   "metadata": {},
   "outputs": [],
   "source": [
    "X_train.shape"
   ]
  },
  {
   "cell_type": "code",
   "execution_count": null,
   "id": "0766f1d4",
   "metadata": {},
   "outputs": [],
   "source": [
    "X_test_scaled=std_scaler.transform(X_test)"
   ]
  },
  {
   "cell_type": "code",
   "execution_count": null,
   "id": "0d441e23",
   "metadata": {},
   "outputs": [],
   "source": [
    "print(X_train_scaled)\n",
    "print(\"--------\")\n",
    "print(X_test_scaled)"
   ]
  },
  {
   "cell_type": "code",
   "execution_count": null,
   "id": "f3135977",
   "metadata": {},
   "outputs": [],
   "source": []
  }
 ],
 "metadata": {
  "kernelspec": {
   "display_name": "Python 3 (ipykernel)",
   "language": "python",
   "name": "python3"
  },
  "language_info": {
   "codemirror_mode": {
    "name": "ipython",
    "version": 3
   },
   "file_extension": ".py",
   "mimetype": "text/x-python",
   "name": "python",
   "nbconvert_exporter": "python",
   "pygments_lexer": "ipython3",
   "version": "3.7.13"
  },
  "toc": {
   "base_numbering": 1,
   "nav_menu": {},
   "number_sections": true,
   "sideBar": true,
   "skip_h1_title": false,
   "title_cell": "Table of Contents",
   "title_sidebar": "Contents",
   "toc_cell": false,
   "toc_position": {
    "height": "calc(100% - 180px)",
    "left": "10px",
    "top": "150px",
    "width": "190px"
   },
   "toc_section_display": true,
   "toc_window_display": true
  }
 },
 "nbformat": 4,
 "nbformat_minor": 5
}
