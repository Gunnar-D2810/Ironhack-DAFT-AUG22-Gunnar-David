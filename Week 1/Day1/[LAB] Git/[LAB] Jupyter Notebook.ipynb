{
 "cells": [
  {
   "cell_type": "code",
   "execution_count": 1,
   "metadata": {},
   "outputs": [
    {
     "data": {
      "image/png": "[encoded data removed]",
      "text/plain": [
       "<IPython.core.display.Image object>"
      ]
     },
     "execution_count": 1,
     "metadata": {},
     "output_type": "execute_result"
    }
   ],
   "source": [
    "#IPython.display is used to call a here locally saved image and return it with Image variable\n",
    "from  IPython.display import Image\n",
    "Image(\"https://user-images.githubusercontent.com/23629340/40541063-a07a0a8a-601a-11e8-91b5-2f13e4e6b441.png\")"
   ]
  },
  {
   "cell_type": "markdown",
   "metadata": {},
   "source": [
    "## Introduction\n",
    "Creating a Jupyter notebook that is well commented and tells the story of your code / project is very important. \n",
    "\n",
    "It will be relevant for your upcoming projects during the bootcamp.\n",
    "\n",
    "## Objective \n",
    "We are giving you a deliberately silly exercise to get comfortable with jupyter notebook, and how to submit work from jupyter to us via github and the student portal. \n",
    "\n",
    "## Getting Started\n",
    "Open a new jupyter notebook file on your laptop. \n",
    "\n",
    "In the notebook that you created, you will introduce someone and her/his holidays preference with a picture and a link to a youtube video of this holiday preference \n",
    "(It can be you, a friend or family member :D) \n",
    "\n",
    "+ Give the notebook a heading title \n",
    "+ Explain the purpose of the notebook with a markdown cell\n",
    "+ Write a function that takes an input - which will be the selected person's name\n",
    "+ upload a photo of that person to the notebook \n",
    "+ Add a photo or screenshot of the holiday destination\n",
    "+ Add bullet points of the top 3 things that the person likes to do  at this destination.\n",
    "+ add relevant annotations to explain any function  you have used \n",
    "\n",
    "### Optional \n",
    "+ Try to make the text colorful, bold or italic.\n",
    "+ Add a link to a youtube video of the destination.\n",
    "+ create an navigable index at the top of your jupyter notebook  \n",
    "+ Add titles to all sections you have created, and then create hyperlinks from the elements of the index to their corresponding section title.\n",
    "+ using Jupyter Notebook Slides, try to present your solution in the slides format. \n",
    "  + Hint. using jupyter nbconvert [Notebook_Name] --to slides --post serve         \n",
    "\n",
    "## Deliverables\n",
    "notebook (.ipynb file) with your responses named as Jupyterlab.ipynb\n",
    "\n",
    "## Submission\n",
    "+ create and clone your ironhack labs repo from github locally, if you have not already (hint: this is a good time to set up your labs in an organised way!)\n",
    "+ Upon completion of the noteboook, save your deliverables to your github repo clone (local folder)\n",
    "+ Then add, commit git (using an appropriate commit message) and push your local copy changes to the remote\n",
    "+ check your remote repo using githubdesktop, gitkraken, or via the browser to confirm the steps \n",
    "+ submit your github url via your student portal to let us know you have completed the lab \n",
    "\n",
    "## Resources\n",
    "[Jupyter Notebooks Markdown Cheatsheet](https://www.ibm.com/docs/en/watson-studio-local/1.2.3?topic=notebooks-markdown-jupyter-cheatsheet)\n",
    "[markdown in jupyter notebook](https://www.datacamp.com/community/tutorials/markdown-in-jupyter-notebook)"
   ]
  },
  {
   "cell_type": "markdown",
   "metadata": {},
   "source": [
    "## My Submission\n",
    "[Lasse_holiday_notebook](http://localhost:8889/notebooks/Ironhack%20Data%20Analytics%20Bootcamp%20FT%20AUG%202022%20Berlin/Week1/Lasse_holiday_notebook.ipynb)"
   ]
  }
 ],
 "metadata": {
  "kernelspec": {
   "display_name": "Python 3",
   "language": "python",
   "name": "python3"
  },
  "language_info": {
   "codemirror_mode": {
    "name": "ipython",
    "version": 3
   },
   "file_extension": ".py",
   "mimetype": "text/x-python",
   "name": "python",
   "nbconvert_exporter": "python",
   "pygments_lexer": "ipython3",
   "version": "3.6.8"
  }
 },
 "nbformat": 4,
 "nbformat_minor": 2
}
