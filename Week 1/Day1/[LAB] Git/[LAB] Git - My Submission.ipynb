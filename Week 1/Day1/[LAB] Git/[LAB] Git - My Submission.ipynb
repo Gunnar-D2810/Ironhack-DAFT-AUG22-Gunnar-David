{
 "cells": [
  {
   "cell_type": "markdown",
   "metadata": {},
   "source": [
    "# Lab | Git\n",
    "Introduction\n",
    "Being able to use both, git and GitHub, is an important skill every software/data engineer must possess. This is even more important when it comes to its ability to handle code in collaborative projects. This lab will help you learn how use it. This lab will help you learn how to use it and understand its importance better.\n",
    "\n",
    "## Instructions\n",
    "First of all, install git if you don't have it yet, and create a GitHub account. (In case you haven't made it to the bonus section in the Prework, refer to the lesson \"Install Git and Create GitHub Account\", that you will find there. Follow the guidelines given there. Additionally, you can use these resources: Install git, Version control with git)\n",
    "\n",
    "Create a new repository in GitHub. Name it Iron+ your name. Example: if your name is Alvaro, you will name the repo IronAlvaro.\n",
    "\n",
    "Clone that repo to your computer.\n",
    "\n",
    "Create a file in that folder. Name it about.txt and add a fun fact about yourself. (You can use the command line: touch nameOfTheFile.txt).\n",
    "\n",
    "Add the file you just created to git.\n",
    "\n",
    "Commit the change.\n",
    "\n",
    "Push the changes to the GitHub and check your repository to make sure everything is there.\n",
    "\n",
    "Great! This was pretty smooth, we hope. 🚀\n",
    "\n",
    "Now let's practice the collaboration part.\n",
    "\n",
    "## Git Collaboration exercise\n",
    "Pair yourself with a classmate. Send the link to your repository on GitHub to your peer. Choose which one of your repositories will be the central repository that you both will collaborate on. That means ONLY your repository (or your peer's repository) will be the central repository for both of you.\n",
    "\n",
    "Now each of you should perform the following set of actions: ( Here we assume that YOUR repository is the central repository that you both will collaborate on) (\"You\" means your task, \"Your peer\" means your peer's task).\n",
    "\n",
    "(YOU) Give access to your peer (with read/write permissions) to be able to collaborate on your repository.\n",
    "(Your peer) Clone the central repository so you have it locally and you can make changes.\n",
    "(BOTH) Create a new file with your name (ex. maya.txt) and finish the following sentence I enrolled Ironhack's Data Analytics bootcamp because.... When you are done, save the changes.\n",
    "(BOTH) Update the file \"about.txt\". first delete its old contents and each one of you will add small paragraph about his contribution to this project. When you are done, save the changes.\n",
    "Add the changes to git. (Make sure that you solve any conflict manually if it appears).\n",
    "Commit and push changes. Now, all the changes should be on the central repository.\n",
    "We hope you enjoyed this activity and learned something new about your classmates! ❤️\n",
    "\n",
    "## My Submission\n",
    "**Fun Fact**\n",
    "[The funny fact about me can be found in my about.txt here](\"https://github.com/Gunnar-D2810/IronGunnar/blob/main/about.txt\")\n",
    "\n",
    "**Git Collaboration exercise**\n",
    "[The collaboration files about.txt and maya.txt can be found here. The collab history with Rodrigo can be also traced in this repo](\"https://github.com/Gunnar-D2810/central-repository\")"
   ]
  }
 ],
 "metadata": {
  "kernelspec": {
   "display_name": "Python 3",
   "language": "python",
   "name": "python3"
  },
  "language_info": {
   "codemirror_mode": {
    "name": "ipython",
    "version": 3
   },
   "file_extension": ".py",
   "mimetype": "text/x-python",
   "name": "python",
   "nbconvert_exporter": "python",
   "pygments_lexer": "ipython3",
   "version": "3.6.8"
  }
 },
 "nbformat": 4,
 "nbformat_minor": 2
}
