{
 "cells": [
  {
   "cell_type": "code",
   "execution_count": 12,
   "metadata": {},
   "outputs": [
    {
     "ename": "SyntaxError",
     "evalue": "can't assign to function call (<ipython-input-12-3ca3c62a4790>, line 49)",
     "output_type": "error",
     "traceback": [
      "\u001b[0;36m  File \u001b[0;32m\"<ipython-input-12-3ca3c62a4790>\"\u001b[0;36m, line \u001b[0;32m49\u001b[0m\n\u001b[0;31m    questions.random([question]) = temp\u001b[0m\n\u001b[0m    ^\u001b[0m\n\u001b[0;31mSyntaxError\u001b[0m\u001b[0;31m:\u001b[0m can't assign to function call\n"
     ]
    }
   ],
   "source": [
    "import random\n",
    "\n",
    "questions = [\n",
    "    'Given the choice of anyone in the world, whom would you want as a dinner guest?',\n",
    "    'Would you like to be famous? In what way?',\n",
    "    'Before making a telephone call, do you ever rehearse what you are going to say?',\n",
    "    'What would constitute a perfect day for you?',\n",
    "    'When did you last sing to yourself? To someone else?',\n",
    "    '''If you were able to live to the age of 90 and retain either the mind or body of a\n",
    "    30-year-old for the last 60 years of your life, which would you want?''',\n",
    "    'Do you have a secret hunch about how you will die?',\n",
    "    'For what in your life do you feel most grateful?',\n",
    "    'If you could wake up tomorrow having gained any one quality or ability, what would it be?',\n",
    "    '''If a crystal ball could tell you the truth about yourself, your life, the future,\n",
    "    or anything else, what would you want to know?''',\n",
    "    'Share with your Ironhack fellow student an embarrassing moment in your life.',\n",
    "    'What, if anything, is too serious to be joked about?',\n",
    "    '''Your house, containing everything you own, catches fire. After saving your loved ones and pets,\n",
    "    you have time to safely make a final dash to save any one item. What would it be? Why?''',\n",
    "    'Where is the furthest you have traveled from your hometown?',\n",
    "    'If they made a movie about your life, who would you want to play you?',\n",
    "    '''You just got a free plane ticket to anywhere in the world but you have to leave immediately\n",
    "    and cannot pack anything. Where are you going to go?''',\n",
    "    'If you could ask your future self one question, what would it be?',\n",
    "    'What thing do you wish you knew how to do that you don’t understand?',\n",
    "    'What is the strangest thing you have ever eaten?',\n",
    "    'What is your favorite joke?',\n",
    "    'If you were president, what song would you want to play when you walked in the room?',\n",
    "    'If you didn’t need to sleep, what would you do with the extra time?',\n",
    "    '''You discover a beautiful island upon which you may build your own society.\n",
    "    You make the rules. What is the first rule you put into place?''',\n",
    "    'Who is your favorite movie villain?',\n",
    "    'What game makes you the most competitive?',\n",
    "    'What superpower would you give your best friend?',\n",
    "    'If you were one of Snow White’s dwarves, who would you be? You can make up your own name!',\n",
    "    'What is something that you can do better than anyone else that you know?',\n",
    "    'If you had your own talk show, who would your first three guests be?',\n",
    "    'Where would you visit if allowed: outer space or the ocean?'\n",
    "]\n",
    "\n",
    "\n",
    "#shuffle questions in question list\n",
    "\n",
    "questioned_shuffled = random.shuffle(questions)\n",
    "print(questioned_shuffled)\n",
    "people = [\"Gunnar\", \"Rodrigo\", \"Melina\" ]\n",
    "\n",
    "def rdn_question(people[name]):\n",
    "    for question in questions:\n",
    "        questions.random([question]) = temp\n",
    "        print(temp)\n",
    "    return temp\n",
    "\n",
    "rdn_question(Gunnar)\n",
    "\n",
    "\n"
   ]
  },
  {
   "cell_type": "code",
   "execution_count": 14,
   "metadata": {},
   "outputs": [
    {
     "ename": "AttributeError",
     "evalue": "'list' object has no attribute 'split'",
     "output_type": "error",
     "traceback": [
      "\u001b[0;31m---------------------------------------------------------------------------\u001b[0m",
      "\u001b[0;31mAttributeError\u001b[0m                            Traceback (most recent call last)",
      "\u001b[0;32m<ipython-input-14-7d42eb888b2b>\u001b[0m in \u001b[0;36m<module>\u001b[0;34m()\u001b[0m\n\u001b[0;32m----> 1\u001b[0;31m \u001b[0mquestions\u001b[0m\u001b[0;34m.\u001b[0m\u001b[0msplit\u001b[0m\u001b[0;34m(\u001b[0m\u001b[0;34m\",\"\u001b[0m\u001b[0;34m)\u001b[0m\u001b[0;34m\u001b[0m\u001b[0;34m\u001b[0m\u001b[0m\n\u001b[0m",
      "\u001b[0;31mAttributeError\u001b[0m: 'list' object has no attribute 'split'"
     ]
    }
   ],
   "source": [
    "questions.split(\",\")"
   ]
  },
  {
   "cell_type": "markdown",
   "metadata": {},
   "source": [
    "'Given the choice of anyone in the world, whom would you want as a dinner guest?',\n",
    "    'Would you like to be famous? In what way?',\n",
    "    'Before making a telephone call, do you ever rehearse what you are going to say?',\n",
    "    'What would constitute a perfect day for you?',\n",
    "    'When did you last sing to yourself? To someone else?',\n",
    "    '''If you were able to live to the age of 90 and retain either the mind or body of a\n",
    "    30-year-old for the last 60 years of your life, which would you want?''',\n",
    "    'Do you have a secret hunch about how you will die?',\n",
    "    'For what in your life do you feel most grateful?',\n",
    "    'If you could wake up tomorrow having gained any one quality or ability, what would it be?',\n",
    "    '''If a crystal ball could tell you the truth about yourself, your life, the future,\n",
    "    or anything else, what would you want to know?''',\n",
    "    'Share with your Ironhack fellow student an embarrassing moment in your life.',\n",
    "    'What, if anything, is too serious to be joked about?',\n",
    "    '''Your house, containing everything you own, catches fire. After saving your loved ones and pets,\n",
    "    you have time to safely make a final dash to save any one item. What would it be? Why?''',\n",
    "    'Where is the furthest you have traveled from your hometown?',\n",
    "    'If they made a movie about your life, who would you want to play you?',\n",
    "    '''You just got a free plane ticket to anywhere in the world but you have to leave immediately\n",
    "    and cannot pack anything. Where are you going to go?''',\n",
    "    'If you could ask your future self one question, what would it be?',\n",
    "    'What thing do you wish you knew how to do that you don’t understand?',\n",
    "    'What is the strangest thing you have ever eaten?',\n",
    "    'What is your favorite joke?',\n",
    "    'If you were president, what song would you want to play when you walked in the room?',\n",
    "    'If you didn’t need to sleep, what would you do with the extra time?',\n",
    "    '''You discover a beautiful island upon which you may build your own society.\n",
    "    You make the rules. What is the first rule you put into place?''',\n",
    "    'Who is your favorite movie villain?',\n",
    "    'What game makes you the most competitive?',\n",
    "    'What superpower would you give your best friend?',\n",
    "    'If you were one of Snow White’s dwarves, who would you be? You can make up your own name!',\n",
    "    'What is something that you can do better than anyone else that you know?',\n",
    "    'If you had your own talk show, who would your first three guests be?',\n",
    "    'Where would you visit if allowed: outer space or the ocean?'"
   ]
  },
  {
   "cell_type": "code",
   "execution_count": 9,
   "metadata": {},
   "outputs": [
    {
     "name": "stdout",
     "output_type": "stream",
     "text": [
      "[1, 2, 3, 1, 3, 2, 2, 1, 3, 2, 3, 1]\n"
     ]
    }
   ],
   "source": [
    "my_list = [[1, 2, 3], [1, 3, 2], [2, 1, 3], [2, 3, 1]]\n",
    "flat_list = [ ]\n",
    "\n",
    "for sublist in my_list: \n",
    "     for item in sublist:  \n",
    "                flat_list.append(item)\n",
    "print(flat_list)"
   ]
  },
  {
   "cell_type": "code",
   "execution_count": null,
   "metadata": {},
   "outputs": [],
   "source": [
    "white_check_mark\n",
    "eyes\n",
    "raised_hands\n",
    "\n",
    "\n",
    "9:08\n",
    "people = [ ]"
   ]
  },
  {
   "cell_type": "code",
   "execution_count": null,
   "metadata": {},
   "outputs": [],
   "source": []
  }
 ],
 "metadata": {
  "kernelspec": {
   "display_name": "Python 3",
   "language": "python",
   "name": "python3"
  },
  "language_info": {
   "codemirror_mode": {
    "name": "ipython",
    "version": 3
   },
   "file_extension": ".py",
   "mimetype": "text/x-python",
   "name": "python",
   "nbconvert_exporter": "python",
   "pygments_lexer": "ipython3",
   "version": "3.6.8"
  }
 },
 "nbformat": 4,
 "nbformat_minor": 2
}
