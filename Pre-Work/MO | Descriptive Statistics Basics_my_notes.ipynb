{
 "cells": [
  {
   "cell_type": "code",
   "execution_count": 6,
   "metadata": {},
   "outputs": [
    {
     "data": {
      "text/plain": [
       "89"
      ]
     },
     "execution_count": 6,
     "metadata": {},
     "output_type": "execute_result"
    }
   ],
   "source": [
    "import statistics as stats\n",
    "lst = [95,87,85,85,90,89,90,88,96]\n",
    "stats.median(lst)"
   ]
  },
  {
   "cell_type": "code",
   "execution_count": 17,
   "metadata": {},
   "outputs": [
    {
     "name": "stdout",
     "output_type": "stream",
     "text": [
      "Mean before extra test\n",
      "88\n",
      "Median\n",
      "89\n",
      "89\n"
     ]
    }
   ],
   "source": [
    "sam1 = [88,100,72,91,89]\n",
    "sam1_mean = stats.mean(sam1)\n",
    "print('Mean before extra test')\n",
    "print(sam1_mean)\n",
    "print('Median')\n",
    "print(stats.median(sam1))\n",
    "\n",
    "sam2 = [88,100,72,91,89,94]\n",
    "sam2_mean = stats.mean(sam2)\n",
    "print(sam2_mean)\n",
    "\n"
   ]
  },
  {
   "cell_type": "code",
   "execution_count": 22,
   "metadata": {},
   "outputs": [
    {
     "name": "stdout",
     "output_type": "stream",
     "text": [
      "1.2\n",
      "2.7\n",
      "4.2\n",
      "0.570087712549569\n",
      "1.3038404810405297\n",
      "3.3466401061363023\n"
     ]
    }
   ],
   "source": [
    "store1 = [1,1.5,2,1,0.5]\n",
    "store2 = [2,2.5,4,4,1]\n",
    "store3 = [10,3,2,4,2]\n",
    "print(stats.mean(store1))\n",
    "print(stats.mean(store2))\n",
    "print(stats.mean(store3))\n",
    "\n",
    "print(stats.stdev(store1))\n",
    "print(stats.stdev(store2))\n",
    "print(stats.stdev(store3))"
   ]
  },
  {
   "cell_type": "code",
   "execution_count": null,
   "metadata": {},
   "outputs": [],
   "source": []
  }
 ],
 "metadata": {
  "kernelspec": {
   "display_name": "Python 3",
   "language": "python",
   "name": "python3"
  },
  "language_info": {
   "codemirror_mode": {
    "name": "ipython",
    "version": 3
   },
   "file_extension": ".py",
   "mimetype": "text/x-python",
   "name": "python",
   "nbconvert_exporter": "python",
   "pygments_lexer": "ipython3",
   "version": "3.6.8"
  }
 },
 "nbformat": 4,
 "nbformat_minor": 2
}
