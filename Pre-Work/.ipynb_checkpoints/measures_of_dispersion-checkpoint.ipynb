{
 "cells": [
  {
   "cell_type": "markdown",
   "metadata": {},
   "source": [
    "## Measures of Dispersion"
   ]
  },
  {
   "cell_type": "raw",
   "metadata": {},
   "source": [
    "Measures of dispersion are used to measure how \"spread out\" the data is. Here we will talk about `Range`, `Standard Deviation` and `Variance`\n"
   ]
  },
  {
   "cell_type": "markdown",
   "metadata": {},
   "source": [
    "Here is a video that will help you understand the concept better:\n",
    "    \n",
    "    https://www.youtube.com/watch?v=E4HAYd0QnRc"
   ]
  },
  {
   "cell_type": "markdown",
   "metadata": {},
   "source": [
    "### Range"
   ]
  },
  {
   "cell_type": "raw",
   "metadata": {},
   "source": [
    "It is the difference between two extreme observations of the data set. If `X max` and `X min` are the two extreme observations then `Range` = `X max` – `X min`"
   ]
  },
  {
   "cell_type": "code",
   "execution_count": 3,
   "metadata": {},
   "outputs": [],
   "source": [
    "import statistics as stats"
   ]
  },
  {
   "cell_type": "code",
   "execution_count": 4,
   "metadata": {},
   "outputs": [
    {
     "data": {
      "text/plain": [
       "99"
      ]
     },
     "execution_count": 4,
     "metadata": {},
     "output_type": "execute_result"
    }
   ],
   "source": [
    "lst = [12, 23, 43, 19, 1, 33, 76 , 100]\n",
    "\n",
    "lst_range = max(lst) - min(lst)\n",
    "lst_range"
   ]
  },
  {
   "cell_type": "code",
   "execution_count": 5,
   "metadata": {},
   "outputs": [
    {
     "data": {
      "text/plain": [
       "99"
      ]
     },
     "execution_count": 5,
     "metadata": {},
     "output_type": "execute_result"
    }
   ],
   "source": [
    "lst = [12, 23, 43, 19, 1, 33, 76 , 100]\n",
    "\n",
    "lst_range = max(lst) - min(lst)\n",
    "lst_range"
   ]
  },
  {
   "cell_type": "markdown",
   "metadata": {},
   "source": [
    "### Variance "
   ]
  },
  {
   "cell_type": "code",
   "execution_count": 6,
   "metadata": {},
   "outputs": [
    {
     "ename": "SyntaxError",
     "evalue": "invalid syntax (<ipython-input-6-a7c2a7a700b5>, line 1)",
     "output_type": "error",
     "traceback": [
      "\u001b[0;36m  File \u001b[0;32m\"<ipython-input-6-a7c2a7a700b5>\"\u001b[0;36m, line \u001b[0;32m1\u001b[0m\n\u001b[0;31m    Variance describes spread (from the mean) in the data. It tells us how scattered the data is, around the mean.\u001b[0m\n\u001b[0m                     ^\u001b[0m\n\u001b[0;31mSyntaxError\u001b[0m\u001b[0;31m:\u001b[0m invalid syntax\n"
     ]
    }
   ],
   "source": [
    "Variance describes spread (from the mean) in the data. It tells us how scattered the data is, around the mean. \n",
    "\n",
    "This quantity is always positive \n",
    "\n",
    "Larger the magnitude, larger is the spread and vice-versa"
   ]
  },
  {
   "cell_type": "raw",
   "metadata": {},
   "source": [
    "Here we will see how to calculate the variance manually:\n",
    "    \n",
    "Step 1: Compute the mean\n",
    "Step 2: Subtract the mean from each individual observation. This is called deviation \n",
    "Step 3: Take the square of these deviations. These are called squared deviations \n",
    "Step 4: Add all the squared deviations. This is called sum of squares \n",
    "Step 5: Divide the sum of squares by (n-1) where `n` is the number of observations. This is called variance \n"
   ]
  },
  {
   "cell_type": "code",
   "execution_count": 7,
   "metadata": {},
   "outputs": [],
   "source": [
    "# Using statistics library to compute variance "
   ]
  },
  {
   "cell_type": "code",
   "execution_count": 38,
   "metadata": {},
   "outputs": [
    {
     "name": "stdout",
     "output_type": "stream",
     "text": [
      "46.666666666666664\n",
      "[-34.666666666666664, -23.666666666666664, -3.6666666666666643, -27.666666666666664, -45.666666666666664, -13.666666666666664, 29.333333333333336, 53.333333333333336, -34.666666666666664, 7.333333333333336, 9.333333333333336, 51.333333333333336, -14.666666666666664, 7.333333333333336, 40.333333333333336]\n",
      "[1201.7777777777776, 560.111111111111, 13.444444444444427, 765.4444444444443, 2085.4444444444443, 186.77777777777771, 860.4444444444446, 2844.444444444445, 1201.7777777777776, 53.777777777777814, 87.11111111111116, 2635.1111111111113, 215.11111111111103, 53.777777777777814, 1626.777777777778]\n",
      "14391.333333333332\n"
     ]
    },
    {
     "data": {
      "text/plain": [
       "1027.952380952381"
      ]
     },
     "execution_count": 38,
     "metadata": {},
     "output_type": "execute_result"
    }
   ],
   "source": [
    "import statistics as stats\n",
    "import math\n",
    "lst = [12, 23, 43, 19, 1, 33, 76 , 100, 12, 54, 56, 98, 32, 54, 87]\n",
    "lst_mean = stats.mean(lst)\n",
    "# Step 1\n",
    "print(lst_mean)\n",
    "\n",
    "# Step 2\n",
    "adjusted_lst = []\n",
    "for item in lst:\n",
    "    adjusted_lst.append(item-lst_mean)\n",
    "print(adjusted_lst)\n",
    "\n",
    "#Step 3\n",
    "adjusted2_lst = []\n",
    "for item in adjusted_lst:\n",
    "    adjusted2_lst.append((item**2))\n",
    "print(adjusted2_lst)\n",
    "\n",
    "#Step 4\n",
    "lst_sum_sq_dev = sum(adjusted2_lst)\n",
    "print(lst_sum_sq_dev)\n",
    "\n",
    "#Step 5\n",
    "lst_sum_sq_dev/(len(lst)-1)"
   ]
  },
  {
   "cell_type": "code",
   "execution_count": 9,
   "metadata": {},
   "outputs": [
    {
     "data": {
      "text/plain": [
       "1027.952380952381"
      ]
     },
     "execution_count": 9,
     "metadata": {},
     "output_type": "execute_result"
    }
   ],
   "source": [
    "import statistics as stats\n",
    "stats.variance(lst)"
   ]
  },
  {
   "cell_type": "code",
   "execution_count": null,
   "metadata": {},
   "outputs": [],
   "source": []
  },
  {
   "cell_type": "markdown",
   "metadata": {},
   "source": [
    "### Standard Deviation"
   ]
  },
  {
   "cell_type": "code",
   "execution_count": null,
   "metadata": {},
   "outputs": [],
   "source": [
    "Here we will see how to calculate the variance manually:\n",
    "    \n",
    "Step 1: Compute the mean\n",
    "Step 2: Subtract the mean from each individual observation. This is called deviation \n",
    "Step 3: Take the square of these deviations. These are called squared deviations \n",
    "Step 4: Add all the squared deviations. This is called sum of squares \n",
    "Step 5: Divide the sum of squares by (n-1) where `n` is the number of observations. This is called variance \n",
    "Step 6: Take the square root of variance. This is called standard deviation \n"
   ]
  },
  {
   "cell_type": "code",
   "execution_count": null,
   "metadata": {},
   "outputs": [],
   "source": [
    "# Using statistics library to compute standard deviation "
   ]
  },
  {
   "cell_type": "code",
   "execution_count": 4,
   "metadata": {},
   "outputs": [
    {
     "data": {
      "text/plain": [
       "33.738225459304424"
      ]
     },
     "execution_count": 4,
     "metadata": {},
     "output_type": "execute_result"
    }
   ],
   "source": [
    "import statistics as stats\n",
    "stats.stdev(lst)"
   ]
  },
  {
   "cell_type": "code",
   "execution_count": 50,
   "metadata": {},
   "outputs": [
    {
     "name": "stdout",
     "output_type": "stream",
     "text": [
      "46.666666666666664\n",
      "[-34.666666666666664, -23.666666666666664, -3.6666666666666643, -27.666666666666664, -45.666666666666664, -13.666666666666664, 29.333333333333336, 53.333333333333336, -34.666666666666664, 7.333333333333336, 9.333333333333336, 51.333333333333336, -14.666666666666664, 7.333333333333336, 40.333333333333336]\n",
      "[1201.7777777777776, 560.111111111111, 13.444444444444427, 765.4444444444443, 2085.4444444444443, 186.77777777777771, 860.4444444444446, 2844.444444444445, 1201.7777777777776, 53.777777777777814, 87.11111111111116, 2635.1111111111113, 215.11111111111103, 53.777777777777814, 1626.777777777778]\n",
      "14391.333333333332\n",
      "1027.952380952381\n",
      "32.06169647651822\n"
     ]
    }
   ],
   "source": [
    "import statistics as stats\n",
    "import math\n",
    "lst_mean = stats.mean(lst)\n",
    "# Step 1\n",
    "print(lst_mean)\n",
    "\n",
    "# Step 2\n",
    "adjusted_lst = []\n",
    "for item in lst:\n",
    "    adjusted_lst.append(item-lst_mean)\n",
    "print(adjusted_lst)\n",
    "\n",
    "#Step 3\n",
    "adjusted2_lst = []\n",
    "for item in adjusted_lst:\n",
    "    adjusted2_lst.append((item**2))\n",
    "print(adjusted2_lst)\n",
    "\n",
    "#Step 4\n",
    "lst_sum_sq_dev = sum(adjusted2_lst)\n",
    "print(lst_sum_sq_dev)\n",
    "\n",
    "#Step 5\n",
    "variance = (lst_sum_sq_dev/(len(lst)-1))\n",
    "print(variance)\n",
    "stdev = math.sqrt(variance)\n",
    "print(stdev)"
   ]
  },
  {
   "cell_type": "markdown",
   "metadata": {},
   "source": [
    "#### Difference between standard deviation and variance "
   ]
  },
  {
   "cell_type": "raw",
   "metadata": {},
   "source": [
    "Even though both variance and standard deviation are measures of spread/dispersion, there is a difference in the units of the two things. Unit of variance is squared of the unit of the original data while unit of standard deviation is same as the unit of the original data. Therefore for practical purposes, sometimes people prefer to use standard deviation instead of variance. \n",
    "\n",
    "Also since variance is square of standard deviation, if the value of standard deviation is large then the magnitude of variance becomes larger. Sometimes it is prefereable to work with numbers of lesser magnitudes"
   ]
  },
  {
   "cell_type": "code",
   "execution_count": null,
   "metadata": {},
   "outputs": [],
   "source": []
  },
  {
   "cell_type": "markdown",
   "metadata": {},
   "source": [
    "## Population and Sample"
   ]
  },
  {
   "cell_type": "raw",
   "metadata": {},
   "source": [
    "When we talked about descriptive statistics, we only talked about the data as a whole ie we considered all the \n",
    "data that was given to us. This is called \"Population\" data. But we only considered dummy cases where we \n",
    "used some data in a list. When statisticians have to work with data, they have to deal with a large number of \n",
    "values in order to be able to make some reliable estimates. But in real world it is not possible to collect such a huge number of data points. Therefore we work with a smaller set or a subet of data. This subset is also called as a sample. This sample is assumed to come from a large population and is taken randomly, hence the sample drawn is also called random sample. \n",
    "\n",
    "Whenever we are working with a sample , the statistics described earlier are called sample statitics. \n",
    "For eg instead of `mean` we use the term `sample mean`, instead of `variance` we used the term `sample variance` and instead of `standard deviation` we use `sample standard deviation`"
   ]
  },
  {
   "cell_type": "code",
   "execution_count": null,
   "metadata": {},
   "outputs": [],
   "source": [
    "We will talk about this in more detail during the bootcamp. "
   ]
  },
  {
   "cell_type": "code",
   "execution_count": null,
   "metadata": {},
   "outputs": [],
   "source": []
  },
  {
   "cell_type": "markdown",
   "metadata": {},
   "source": [
    "### Exercise "
   ]
  },
  {
   "cell_type": "raw",
   "metadata": {},
   "source": [
    "1. What is the range for the data set\n",
    "    points = [-4,  17,  25,  19,  6,  11,  7]\n",
    "    \n",
    "2. You are given the following dataset:\n",
    "    \n",
    "    data = [2,4,7,1,6,8]\n",
    "    \n",
    "    How does the standard deviation change when 6 is replaced with 12 ? Does it increase, or decrease, or it remains the same?\n",
    "    \n",
    "\n",
    "3. Is is possile to have a dataset with 0 standard deviation or variance? If yes, can you think of any dataset with 6 data points that have 0 standard deviation?\n",
    "\n",
    "\n",
    "4. We know that standard deviation is a measure of spread in the dataset. What is meant by deviation here?\n",
    "\n",
    "\n",
    "5. Given the dataset in the list:\n",
    "    data = [23, 12, 34, 65, 34, 81]\n",
    "    What is the deviation from the mean for each of the points in the list. Write a for loop and print each of the values \n",
    "    \n",
    "    \n",
    "6. How is standard deviation different than variance ?   "
   ]
  },
  {
   "cell_type": "code",
   "execution_count": 64,
   "metadata": {},
   "outputs": [
    {
     "name": "stdout",
     "output_type": "stream",
     "text": [
      "29\n",
      "2.804757862395017\n",
      "[2, 4, 7, 1, 12, 8]\n",
      "4.131182235954578\n",
      "it increases\n",
      "deviation is the distance from each observation in a given data set from its mean\n",
      "41.5\n",
      "[-18.5, -29.5, -7.5, 23.5, -7.5, 81]\n",
      "the standard deviation has the unit of the observations in a given sample of a population, whereas the variance has the squared unit of the standarddeviation (sometimes the magnitude makes problem here)\n"
     ]
    }
   ],
   "source": [
    "#1\n",
    "import statistics as stats\n",
    "\n",
    "points = [-4,  17,  25,  19,  6,  11,  7]\n",
    "    \n",
    "points_range = max(points) - min(points)\n",
    "print(points_range)\n",
    "\n",
    "#2\n",
    "data = [2,4,7,1,6,8]\n",
    "print(stats.stdev(data))\n",
    "for i in range(len(data)):\n",
    "    if data[i] == 6:\n",
    "        data[i] = 12\n",
    "print(data)\n",
    "print(stats.stdev(data))\n",
    "print('it increases')\n",
    "\n",
    "#3\n",
    "data_set = [6,6,6,6,6,6]\n",
    "stats.stdev(data_set)\n",
    "\n",
    "#4\n",
    "print('deviation is the distance from each observation in a given data set from its mean')\n",
    "\n",
    "#5\n",
    "data = [23, 12, 34, 65, 34, 81]\n",
    "data_mean = stats.mean(data)\n",
    "print(data_mean)\n",
    "for i in range(0,len(data)-1):\n",
    "    data[i] = data[i] - data_mean\n",
    "print(data)\n",
    "\n",
    "#6\n",
    "print('the standard deviation has the unit of the observations in a given sample of a population, whereas the variance has the squared unit of the standarddeviation (sometimes the magnitude makes problem here)')"
   ]
  },
  {
   "cell_type": "code",
   "execution_count": null,
   "metadata": {},
   "outputs": [],
   "source": []
  }
 ],
 "metadata": {
  "kernelspec": {
   "display_name": "Python 3",
   "language": "python",
   "name": "python3"
  },
  "language_info": {
   "codemirror_mode": {
    "name": "ipython",
    "version": 3
   },
   "file_extension": ".py",
   "mimetype": "text/x-python",
   "name": "python",
   "nbconvert_exporter": "python",
   "pygments_lexer": "ipython3",
   "version": "3.6.8"
  }
 },
 "nbformat": 4,
 "nbformat_minor": 2
}
